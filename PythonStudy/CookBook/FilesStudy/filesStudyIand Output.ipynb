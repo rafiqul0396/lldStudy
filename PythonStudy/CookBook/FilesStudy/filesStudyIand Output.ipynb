{
 "cells": [
  {
   "cell_type": "code",
   "execution_count": 2,
   "id": "c92fc446",
   "metadata": {},
   "outputs": [],
   "source": [
    "text1='''\n",
    "Textual data comprise of speech and text databases, \n",
    "lexicons, text corpora, and other metadata-added textual resources used for language and\n",
    "'''"
   ]
  },
  {
   "cell_type": "code",
   "execution_count": 3,
   "id": "4d71bff1",
   "metadata": {},
   "outputs": [],
   "source": [
    "# Write chunks of text data\n",
    "with open('somefile.txt', 'wt') as f:\n",
    "    f.write(text1)\n",
    "    \n"
   ]
  },
  {
   "cell_type": "code",
   "execution_count": 4,
   "id": "b0524249",
   "metadata": {},
   "outputs": [
    {
     "data": {
      "text/plain": [
       "<_io.TextIOWrapper name='somefile.txt' mode='r' encoding='cp1252'>"
      ]
     },
     "execution_count": 4,
     "metadata": {},
     "output_type": "execute_result"
    }
   ],
   "source": [
    "open(\"somefile.txt\")"
   ]
  },
  {
   "cell_type": "code",
   "execution_count": 8,
   "id": "eda39523",
   "metadata": {},
   "outputs": [],
   "source": [
    "# Redirected print statement\n",
    "with open('somefile.txt', 'wt') as f:\n",
    "    print(text1, file=f)\n",
    "    print(text1 ,file=f)"
   ]
  },
  {
   "cell_type": "code",
   "execution_count": 10,
   "id": "33bbfbdb",
   "metadata": {},
   "outputs": [
    {
     "data": {
      "text/plain": [
       "'\\nTextual data comprise of speech and text databases, \\nlexicons, text corpora, and other metadata-added textual resources used for language and\\n\\n\\nTextual data comprise of speech and text databases, \\nlexicons, text corpora, and other metadata-added textual resources used for language and\\n\\n'"
      ]
     },
     "execution_count": 10,
     "metadata": {},
     "output_type": "execute_result"
    }
   ],
   "source": [
    "# Newline translation enabled (the default)\n",
    "f = open('somefile.txt', 'rt')\n",
    "f.read()\n"
   ]
  },
  {
   "cell_type": "code",
   "execution_count": 12,
   "id": "dc3e3391",
   "metadata": {},
   "outputs": [
    {
     "data": {
      "text/plain": [
       "'\\nTextual data comprise of speech and text databases, \\nlexicons, text corpora, and other metadata-added textual resources used for language and\\n\\n\\nTextual data comprise of speech and text databases, \\nlexicons, text corpora, and other metadata-added textual resources used for language and\\n\\n'"
      ]
     },
     "execution_count": 12,
     "metadata": {},
     "output_type": "execute_result"
    }
   ],
   "source": [
    "# Replace bad chars with Unicode U+fffd replacement char\n",
    "f = open('somefile.txt', 'rt', encoding='ascii', errors='replace')\n",
    "f.read()"
   ]
  },
  {
   "cell_type": "code",
   "execution_count": 14,
   "id": "46849802",
   "metadata": {},
   "outputs": [
    {
     "data": {
      "text/plain": [
       "'\\nTextual data comprise of speech and text databases, \\nlexicons, text corpora, and other metadata-added textual resources used for language and\\n\\n\\nTextual data comprise of speech and text databases, \\nlexicons, text corpora, and other metadata-added textual resources used for language and\\n\\n'"
      ]
     },
     "execution_count": 14,
     "metadata": {},
     "output_type": "execute_result"
    }
   ],
   "source": [
    "# Ignore bad chars entirely\n",
    "g = open('somefile.txt', 'rt', encoding='ascii', errors='ignore')\n",
    "g.read()"
   ]
  },
  {
   "cell_type": "code",
   "execution_count": 18,
   "id": "240c1a3f",
   "metadata": {},
   "outputs": [],
   "source": [
    "with open('somefile.txt', 'wt') as f:\n",
    "    \n",
    "    print('Hello World!', file=f)\n"
   ]
  },
  {
   "cell_type": "code",
   "execution_count": 20,
   "id": "4481bb25",
   "metadata": {},
   "outputs": [],
   "source": [
    "import os"
   ]
  },
  {
   "cell_type": "code",
   "execution_count": 21,
   "id": "9aad6754",
   "metadata": {},
   "outputs": [
    {
     "ename": "NameError",
     "evalue": "name 'io' is not defined",
     "output_type": "error",
     "traceback": [
      "\u001b[1;31m---------------------------------------------------------------------------\u001b[0m",
      "\u001b[1;31mNameError\u001b[0m                                 Traceback (most recent call last)",
      "\u001b[1;32m~\\AppData\\Local\\Temp\\ipykernel_30780\\855922493.py\u001b[0m in \u001b[0;36m<module>\u001b[1;34m\u001b[0m\n\u001b[1;32m----> 1\u001b[1;33m \u001b[0ms\u001b[0m \u001b[1;33m=\u001b[0m \u001b[0mio\u001b[0m\u001b[1;33m.\u001b[0m\u001b[0mStringIO\u001b[0m\u001b[1;33m(\u001b[0m\u001b[1;33m)\u001b[0m\u001b[1;33m\u001b[0m\u001b[1;33m\u001b[0m\u001b[0m\n\u001b[0m",
      "\u001b[1;31mNameError\u001b[0m: name 'io' is not defined"
     ]
    }
   ],
   "source": [
    "s = io.StringIO()"
   ]
  },
  {
   "cell_type": "code",
   "execution_count": 22,
   "id": "ba8aac88",
   "metadata": {},
   "outputs": [
    {
     "ename": "TypeError",
     "evalue": "TextIOWrapper.write() takes exactly one argument (0 given)",
     "output_type": "error",
     "traceback": [
      "\u001b[1;31m---------------------------------------------------------------------------\u001b[0m",
      "\u001b[1;31mTypeError\u001b[0m                                 Traceback (most recent call last)",
      "\u001b[1;32m~\\AppData\\Local\\Temp\\ipykernel_30780\\4199877408.py\u001b[0m in \u001b[0;36m<module>\u001b[1;34m\u001b[0m\n\u001b[0;32m      1\u001b[0m \u001b[1;32mwith\u001b[0m \u001b[0mopen\u001b[0m\u001b[1;33m(\u001b[0m\u001b[1;34m'sample.gz'\u001b[0m\u001b[1;33m,\u001b[0m\u001b[1;34m'wt'\u001b[0m\u001b[1;33m)\u001b[0m \u001b[1;32mas\u001b[0m \u001b[0mf\u001b[0m\u001b[1;33m:\u001b[0m\u001b[1;33m\u001b[0m\u001b[1;33m\u001b[0m\u001b[0m\n\u001b[1;32m----> 2\u001b[1;33m     \u001b[0mf\u001b[0m\u001b[1;33m.\u001b[0m\u001b[0mwrite\u001b[0m\u001b[1;33m(\u001b[0m\u001b[1;33m)\u001b[0m\u001b[1;33m\u001b[0m\u001b[1;33m\u001b[0m\u001b[0m\n\u001b[0m",
      "\u001b[1;31mTypeError\u001b[0m: TextIOWrapper.write() takes exactly one argument (0 given)"
     ]
    }
   ],
   "source": [
    "with open('sample.gz','wt') as f:\n",
    "    f.write()"
   ]
  },
  {
   "cell_type": "code",
   "execution_count": 24,
   "id": "ac056478",
   "metadata": {},
   "outputs": [
    {
     "ename": "FileNotFoundError",
     "evalue": "[Errno 2] No such file or directory: 'somefile.gz'",
     "output_type": "error",
     "traceback": [
      "\u001b[1;31m---------------------------------------------------------------------------\u001b[0m",
      "\u001b[1;31mFileNotFoundError\u001b[0m                         Traceback (most recent call last)",
      "\u001b[1;32m~\\AppData\\Local\\Temp\\ipykernel_30780\\1576360772.py\u001b[0m in \u001b[0;36m<module>\u001b[1;34m\u001b[0m\n\u001b[0;32m      1\u001b[0m \u001b[1;31m# gzip compression\u001b[0m\u001b[1;33m\u001b[0m\u001b[1;33m\u001b[0m\u001b[0m\n\u001b[0;32m      2\u001b[0m \u001b[1;32mimport\u001b[0m \u001b[0mgzip\u001b[0m\u001b[1;33m\u001b[0m\u001b[1;33m\u001b[0m\u001b[0m\n\u001b[1;32m----> 3\u001b[1;33m \u001b[1;32mwith\u001b[0m \u001b[0mgzip\u001b[0m\u001b[1;33m.\u001b[0m\u001b[0mopen\u001b[0m\u001b[1;33m(\u001b[0m\u001b[1;34m'somefile.gz'\u001b[0m\u001b[1;33m,\u001b[0m \u001b[1;34m'rt'\u001b[0m\u001b[1;33m)\u001b[0m \u001b[1;32mas\u001b[0m \u001b[0mf\u001b[0m\u001b[1;33m:\u001b[0m\u001b[1;33m\u001b[0m\u001b[1;33m\u001b[0m\u001b[0m\n\u001b[0m\u001b[0;32m      4\u001b[0m     \u001b[0mtext\u001b[0m \u001b[1;33m=\u001b[0m \u001b[0mf\u001b[0m\u001b[1;33m.\u001b[0m\u001b[0mread\u001b[0m\u001b[1;33m(\u001b[0m\u001b[1;33m)\u001b[0m\u001b[1;33m\u001b[0m\u001b[1;33m\u001b[0m\u001b[0m\n",
      "\u001b[1;32m~\\Anaconda3\\lib\\gzip.py\u001b[0m in \u001b[0;36mopen\u001b[1;34m(filename, mode, compresslevel, encoding, errors, newline)\u001b[0m\n\u001b[0;32m     56\u001b[0m     \u001b[0mgz_mode\u001b[0m \u001b[1;33m=\u001b[0m \u001b[0mmode\u001b[0m\u001b[1;33m.\u001b[0m\u001b[0mreplace\u001b[0m\u001b[1;33m(\u001b[0m\u001b[1;34m\"t\"\u001b[0m\u001b[1;33m,\u001b[0m \u001b[1;34m\"\"\u001b[0m\u001b[1;33m)\u001b[0m\u001b[1;33m\u001b[0m\u001b[1;33m\u001b[0m\u001b[0m\n\u001b[0;32m     57\u001b[0m     \u001b[1;32mif\u001b[0m \u001b[0misinstance\u001b[0m\u001b[1;33m(\u001b[0m\u001b[0mfilename\u001b[0m\u001b[1;33m,\u001b[0m \u001b[1;33m(\u001b[0m\u001b[0mstr\u001b[0m\u001b[1;33m,\u001b[0m \u001b[0mbytes\u001b[0m\u001b[1;33m,\u001b[0m \u001b[0mos\u001b[0m\u001b[1;33m.\u001b[0m\u001b[0mPathLike\u001b[0m\u001b[1;33m)\u001b[0m\u001b[1;33m)\u001b[0m\u001b[1;33m:\u001b[0m\u001b[1;33m\u001b[0m\u001b[1;33m\u001b[0m\u001b[0m\n\u001b[1;32m---> 58\u001b[1;33m         \u001b[0mbinary_file\u001b[0m \u001b[1;33m=\u001b[0m \u001b[0mGzipFile\u001b[0m\u001b[1;33m(\u001b[0m\u001b[0mfilename\u001b[0m\u001b[1;33m,\u001b[0m \u001b[0mgz_mode\u001b[0m\u001b[1;33m,\u001b[0m \u001b[0mcompresslevel\u001b[0m\u001b[1;33m)\u001b[0m\u001b[1;33m\u001b[0m\u001b[1;33m\u001b[0m\u001b[0m\n\u001b[0m\u001b[0;32m     59\u001b[0m     \u001b[1;32melif\u001b[0m \u001b[0mhasattr\u001b[0m\u001b[1;33m(\u001b[0m\u001b[0mfilename\u001b[0m\u001b[1;33m,\u001b[0m \u001b[1;34m\"read\"\u001b[0m\u001b[1;33m)\u001b[0m \u001b[1;32mor\u001b[0m \u001b[0mhasattr\u001b[0m\u001b[1;33m(\u001b[0m\u001b[0mfilename\u001b[0m\u001b[1;33m,\u001b[0m \u001b[1;34m\"write\"\u001b[0m\u001b[1;33m)\u001b[0m\u001b[1;33m:\u001b[0m\u001b[1;33m\u001b[0m\u001b[1;33m\u001b[0m\u001b[0m\n\u001b[0;32m     60\u001b[0m         \u001b[0mbinary_file\u001b[0m \u001b[1;33m=\u001b[0m \u001b[0mGzipFile\u001b[0m\u001b[1;33m(\u001b[0m\u001b[1;32mNone\u001b[0m\u001b[1;33m,\u001b[0m \u001b[0mgz_mode\u001b[0m\u001b[1;33m,\u001b[0m \u001b[0mcompresslevel\u001b[0m\u001b[1;33m,\u001b[0m \u001b[0mfilename\u001b[0m\u001b[1;33m)\u001b[0m\u001b[1;33m\u001b[0m\u001b[1;33m\u001b[0m\u001b[0m\n",
      "\u001b[1;32m~\\Anaconda3\\lib\\gzip.py\u001b[0m in \u001b[0;36m__init__\u001b[1;34m(self, filename, mode, compresslevel, fileobj, mtime)\u001b[0m\n\u001b[0;32m    171\u001b[0m             \u001b[0mmode\u001b[0m \u001b[1;33m+=\u001b[0m \u001b[1;34m'b'\u001b[0m\u001b[1;33m\u001b[0m\u001b[1;33m\u001b[0m\u001b[0m\n\u001b[0;32m    172\u001b[0m         \u001b[1;32mif\u001b[0m \u001b[0mfileobj\u001b[0m \u001b[1;32mis\u001b[0m \u001b[1;32mNone\u001b[0m\u001b[1;33m:\u001b[0m\u001b[1;33m\u001b[0m\u001b[1;33m\u001b[0m\u001b[0m\n\u001b[1;32m--> 173\u001b[1;33m             \u001b[0mfileobj\u001b[0m \u001b[1;33m=\u001b[0m \u001b[0mself\u001b[0m\u001b[1;33m.\u001b[0m\u001b[0mmyfileobj\u001b[0m \u001b[1;33m=\u001b[0m \u001b[0mbuiltins\u001b[0m\u001b[1;33m.\u001b[0m\u001b[0mopen\u001b[0m\u001b[1;33m(\u001b[0m\u001b[0mfilename\u001b[0m\u001b[1;33m,\u001b[0m \u001b[0mmode\u001b[0m \u001b[1;32mor\u001b[0m \u001b[1;34m'rb'\u001b[0m\u001b[1;33m)\u001b[0m\u001b[1;33m\u001b[0m\u001b[1;33m\u001b[0m\u001b[0m\n\u001b[0m\u001b[0;32m    174\u001b[0m         \u001b[1;32mif\u001b[0m \u001b[0mfilename\u001b[0m \u001b[1;32mis\u001b[0m \u001b[1;32mNone\u001b[0m\u001b[1;33m:\u001b[0m\u001b[1;33m\u001b[0m\u001b[1;33m\u001b[0m\u001b[0m\n\u001b[0;32m    175\u001b[0m             \u001b[0mfilename\u001b[0m \u001b[1;33m=\u001b[0m \u001b[0mgetattr\u001b[0m\u001b[1;33m(\u001b[0m\u001b[0mfileobj\u001b[0m\u001b[1;33m,\u001b[0m \u001b[1;34m'name'\u001b[0m\u001b[1;33m,\u001b[0m \u001b[1;34m''\u001b[0m\u001b[1;33m)\u001b[0m\u001b[1;33m\u001b[0m\u001b[1;33m\u001b[0m\u001b[0m\n",
      "\u001b[1;31mFileNotFoundError\u001b[0m: [Errno 2] No such file or directory: 'somefile.gz'"
     ]
    }
   ],
   "source": [
    "# gzip compression\n",
    "import gzip\n",
    "with gzip.open('somefile.gz', 'rt') as f:\n",
    "    text = f.read()"
   ]
  },
  {
   "cell_type": "code",
   "execution_count": 25,
   "id": "cbb8c078",
   "metadata": {},
   "outputs": [],
   "source": [
    "import os\n",
    "import mmap\n",
    "def memory_map(filename, access=mmap.ACCESS_WRITE):\n",
    "         size = os.path.getsize(filename)\n",
    "         fd = os.open(filename, os.O_RDWR)\n",
    "         return mmap.mmap(fd, size, access=access)"
   ]
  },
  {
   "cell_type": "code",
   "execution_count": 26,
   "id": "9b560fa2",
   "metadata": {},
   "outputs": [],
   "source": [
    "size = 1000000\n",
    "with open('data', 'wb') as f:\n",
    "    f.seek(size-1)\n",
    "    f.write(b'\\x00')"
   ]
  },
  {
   "cell_type": "code",
   "execution_count": 27,
   "id": "4d4bf1eb",
   "metadata": {},
   "outputs": [],
   "source": [
    " m = memory_map('data')"
   ]
  },
  {
   "cell_type": "code",
   "execution_count": 28,
   "id": "a553f395",
   "metadata": {},
   "outputs": [
    {
     "data": {
      "text/plain": [
       "1000000"
      ]
     },
     "execution_count": 28,
     "metadata": {},
     "output_type": "execute_result"
    }
   ],
   "source": [
    "len(m)"
   ]
  },
  {
   "cell_type": "code",
   "execution_count": 29,
   "id": "1f086620",
   "metadata": {},
   "outputs": [
    {
     "data": {
      "text/plain": [
       "b'\\x00\\x00\\x00\\x00\\x00\\x00\\x00\\x00\\x00\\x00'"
      ]
     },
     "execution_count": 29,
     "metadata": {},
     "output_type": "execute_result"
    }
   ],
   "source": [
    "m[0:10]"
   ]
  },
  {
   "cell_type": "code",
   "execution_count": null,
   "id": "f99a2f4a",
   "metadata": {},
   "outputs": [],
   "source": []
  },
  {
   "cell_type": "code",
   "execution_count": null,
   "id": "623c20ff",
   "metadata": {},
   "outputs": [],
   "source": []
  },
  {
   "cell_type": "code",
   "execution_count": null,
   "id": "7c9cd6f8",
   "metadata": {},
   "outputs": [],
   "source": []
  },
  {
   "cell_type": "code",
   "execution_count": null,
   "id": "241faacf",
   "metadata": {},
   "outputs": [],
   "source": []
  },
  {
   "cell_type": "code",
   "execution_count": null,
   "id": "f4b0a4e2",
   "metadata": {},
   "outputs": [],
   "source": []
  },
  {
   "cell_type": "code",
   "execution_count": null,
   "id": "29d4247f",
   "metadata": {},
   "outputs": [],
   "source": []
  },
  {
   "cell_type": "code",
   "execution_count": null,
   "id": "9e035c81",
   "metadata": {},
   "outputs": [],
   "source": []
  },
  {
   "cell_type": "code",
   "execution_count": null,
   "id": "ee3ecabc",
   "metadata": {},
   "outputs": [],
   "source": []
  },
  {
   "cell_type": "code",
   "execution_count": null,
   "id": "032311ee",
   "metadata": {},
   "outputs": [],
   "source": []
  },
  {
   "cell_type": "code",
   "execution_count": null,
   "id": "707865e6",
   "metadata": {},
   "outputs": [],
   "source": []
  },
  {
   "cell_type": "code",
   "execution_count": null,
   "id": "a02f4bf6",
   "metadata": {},
   "outputs": [],
   "source": []
  },
  {
   "cell_type": "code",
   "execution_count": null,
   "id": "41b0e6c5",
   "metadata": {},
   "outputs": [],
   "source": []
  },
  {
   "cell_type": "code",
   "execution_count": null,
   "id": "1989c2a4",
   "metadata": {},
   "outputs": [],
   "source": []
  },
  {
   "cell_type": "code",
   "execution_count": null,
   "id": "4e057088",
   "metadata": {},
   "outputs": [],
   "source": []
  },
  {
   "cell_type": "code",
   "execution_count": null,
   "id": "6a3c0ba9",
   "metadata": {},
   "outputs": [],
   "source": []
  },
  {
   "cell_type": "code",
   "execution_count": null,
   "id": "0c553972",
   "metadata": {},
   "outputs": [],
   "source": []
  },
  {
   "cell_type": "code",
   "execution_count": null,
   "id": "e26de193",
   "metadata": {},
   "outputs": [],
   "source": []
  },
  {
   "cell_type": "code",
   "execution_count": null,
   "id": "6a29d0db",
   "metadata": {},
   "outputs": [],
   "source": []
  },
  {
   "cell_type": "code",
   "execution_count": null,
   "id": "d7497812",
   "metadata": {},
   "outputs": [],
   "source": []
  },
  {
   "cell_type": "code",
   "execution_count": null,
   "id": "2b6260ab",
   "metadata": {},
   "outputs": [],
   "source": []
  },
  {
   "cell_type": "code",
   "execution_count": null,
   "id": "b7e1986d",
   "metadata": {},
   "outputs": [],
   "source": []
  },
  {
   "cell_type": "code",
   "execution_count": null,
   "id": "ad56d696",
   "metadata": {},
   "outputs": [],
   "source": []
  },
  {
   "cell_type": "code",
   "execution_count": null,
   "id": "69c24fec",
   "metadata": {},
   "outputs": [],
   "source": []
  },
  {
   "cell_type": "code",
   "execution_count": null,
   "id": "de8496fa",
   "metadata": {},
   "outputs": [],
   "source": []
  },
  {
   "cell_type": "code",
   "execution_count": null,
   "id": "3b7b8181",
   "metadata": {},
   "outputs": [],
   "source": []
  },
  {
   "cell_type": "code",
   "execution_count": null,
   "id": "9b0ca3fc",
   "metadata": {},
   "outputs": [],
   "source": []
  },
  {
   "cell_type": "code",
   "execution_count": null,
   "id": "898f8a09",
   "metadata": {},
   "outputs": [],
   "source": []
  },
  {
   "cell_type": "code",
   "execution_count": null,
   "id": "9b03efc6",
   "metadata": {},
   "outputs": [],
   "source": []
  },
  {
   "cell_type": "markdown",
   "id": "c8d802c8",
   "metadata": {},
   "source": [
    "### 6.1. Reading and Writing CSV Data\n"
   ]
  },
  {
   "cell_type": "code",
   "execution_count": 30,
   "id": "f35506da",
   "metadata": {},
   "outputs": [
    {
     "name": "stdout",
     "output_type": "stream",
     "text": [
      "['AA', '39.48', '6/11/2007', '9:36am', '-0.18', '181800']\n",
      "['AIG', '71.38', '6/11/2007', '9:36am', '-0.15', '195500']\n",
      "['AXP', '62.58', '6/11/2007', '9:36am', '-0.46', '935000']\n",
      "['BA', '98.31', '6/11/2007', '9:36am', '+0.12', '104800']\n",
      "['C', '53.08', '6/11/2007', '9:36am', '-0.25', '360900']\n",
      "['CAT', '78.29', '6/11/2007', '9:36am', '-0.23', '225400']\n"
     ]
    }
   ],
   "source": [
    "import csv\n",
    "with open('stocks.csv') as f:\n",
    "    f_csv = csv.reader(f)\n",
    "    headers = next(f_csv)\n",
    "    for row in f_csv:\n",
    "        print(row)"
   ]
  },
  {
   "cell_type": "code",
   "execution_count": 34,
   "id": "27dee41d",
   "metadata": {},
   "outputs": [
    {
     "name": "stdout",
     "output_type": "stream",
     "text": [
      "Row(Symbol='AA', Price='39.48', Date='6/11/2007', Time='9:36am', Change='-0.18', Volume='181800')\n",
      "Row(Symbol='AIG', Price='71.38', Date='6/11/2007', Time='9:36am', Change='-0.15', Volume='195500')\n",
      "Row(Symbol='AXP', Price='62.58', Date='6/11/2007', Time='9:36am', Change='-0.46', Volume='935000')\n",
      "Row(Symbol='BA', Price='98.31', Date='6/11/2007', Time='9:36am', Change='+0.12', Volume='104800')\n",
      "Row(Symbol='C', Price='53.08', Date='6/11/2007', Time='9:36am', Change='-0.25', Volume='360900')\n",
      "Row(Symbol='CAT', Price='78.29', Date='6/11/2007', Time='9:36am', Change='-0.23', Volume='225400')\n"
     ]
    }
   ],
   "source": [
    "from collections import namedtuple\n",
    "with open('stocks.csv') as f:\n",
    "    f_csv = csv.reader(f)\n",
    "    headings = next(f_csv)\n",
    "    Row = namedtuple('Row', headings)\n",
    "    for r in f_csv:\n",
    "        row = Row(*r)\n",
    "        print(row)\n",
    "         # Process row"
   ]
  },
  {
   "cell_type": "code",
   "execution_count": 35,
   "id": "a49ac558",
   "metadata": {},
   "outputs": [
    {
     "name": "stdout",
     "output_type": "stream",
     "text": [
      "{'Symbol': 'AA', 'Price': '39.48', 'Date': '6/11/2007', 'Time': '9:36am', 'Change': '-0.18', 'Volume': '181800'}\n",
      "{'Symbol': 'AIG', 'Price': '71.38', 'Date': '6/11/2007', 'Time': '9:36am', 'Change': '-0.15', 'Volume': '195500'}\n",
      "{'Symbol': 'AXP', 'Price': '62.58', 'Date': '6/11/2007', 'Time': '9:36am', 'Change': '-0.46', 'Volume': '935000'}\n",
      "{'Symbol': 'BA', 'Price': '98.31', 'Date': '6/11/2007', 'Time': '9:36am', 'Change': '+0.12', 'Volume': '104800'}\n",
      "{'Symbol': 'C', 'Price': '53.08', 'Date': '6/11/2007', 'Time': '9:36am', 'Change': '-0.25', 'Volume': '360900'}\n",
      "{'Symbol': 'CAT', 'Price': '78.29', 'Date': '6/11/2007', 'Time': '9:36am', 'Change': '-0.23', 'Volume': '225400'}\n"
     ]
    }
   ],
   "source": [
    "import csv\n",
    "with open('stocks.csv') as f:\n",
    "    f_csv = csv.DictReader(f)\n",
    "    for row in f_csv:\n",
    "        print(row)"
   ]
  },
  {
   "cell_type": "code",
   "execution_count": 36,
   "id": "bf5a837e",
   "metadata": {},
   "outputs": [],
   "source": [
    "headers = ['Symbol','Price','Date','Time','Change','Volume']\n",
    "rows = [('AA', 39.48, '6/11/2007', '9:36am', -0.18, 181800),\n",
    " ('AIG', 71.38, '6/11/2007', '9:36am', -0.15, 195500),\n",
    " ('AXP', 62.58, '6/11/2007', '9:36am', -0.46, 935000),\n",
    " ]\n",
    "with open('stocks.csv','w') as f:\n",
    "    f_csv = csv.writer(f)\n",
    "    f_csv.writerow(headers)\n",
    "    f_csv.writerows(rows)"
   ]
  },
  {
   "cell_type": "code",
   "execution_count": 37,
   "id": "35e72738",
   "metadata": {},
   "outputs": [],
   "source": [
    "headers = ['Symbol', 'Price', 'Date', 'Time', 'Change', 'Volume']\n",
    "rows = [{'Symbol':'AA', 'Price':39.48, 'Date':'6/11/2007',\n",
    " 'Time':'9:36am', 'Change':-0.18, 'Volume':181800},\n",
    " {'Symbol':'AIG', 'Price': 71.38, 'Date':'6/11/2007',\n",
    " 'Time':'9:36am', 'Change':-0.15, 'Volume': 195500},\n",
    " {'Symbol':'AXP', 'Price': 62.58, 'Date':'6/11/2007',\n",
    " 'Time':'9:36am', 'Change':-0.46, 'Volume': 935000},\n",
    " ]\n",
    "with open('stocks.csv','w') as f:\n",
    "         f_csv = csv.DictWriter(f, headers)\n",
    "         f_csv.writeheader()\n",
    "         f_csv.writerows(rows)"
   ]
  },
  {
   "cell_type": "code",
   "execution_count": 39,
   "id": "c9678349",
   "metadata": {},
   "outputs": [
    {
     "name": "stdout",
     "output_type": "stream",
     "text": [
      "['Symbol', 'Price', 'Date', 'Time', 'Change', 'Volume']\n",
      "['AA', '39.48', '6/11/2007', '9:36am', '-0.18', '181800']\n",
      "['AIG', '71.38', '6/11/2007', '9:36am', '-0.15', '195500']\n",
      "['AXP', '62.58', '6/11/2007', '9:36am', '-0.46', '935000']\n",
      "['BA', '98.31', '6/11/2007', '9:36am', '+0.12', '104800']\n",
      "['C', '53.08', '6/11/2007', '9:36am', '-0.25', '360900']\n",
      "['CAT', '78.29', '6/11/2007', '9:36am', '-0.23', '225400']\n"
     ]
    }
   ],
   "source": [
    "# Example of reading tab-separated values\n",
    "with open('stocks.tsv') as f:\n",
    "         f_tsv = csv.reader(f, delimiter='\\t')\n",
    "         for row in f_tsv:\n",
    "                print(row)"
   ]
  },
  {
   "cell_type": "code",
   "execution_count": 40,
   "id": "8ca37cac",
   "metadata": {},
   "outputs": [],
   "source": [
    "import json\n",
    "data = {\n",
    " 'name' : 'ACME',\n",
    " 'shares' : 100,\n",
    " 'price' : 542.23\n",
    "}\n",
    "json_str = json.dumps(data)"
   ]
  },
  {
   "cell_type": "code",
   "execution_count": 42,
   "id": "2277cffc",
   "metadata": {},
   "outputs": [],
   "source": [
    "json.dumps?"
   ]
  },
  {
   "cell_type": "code",
   "execution_count": 43,
   "id": "6a26af92",
   "metadata": {},
   "outputs": [
    {
     "data": {
      "text/plain": [
       "'{\"name\": \"ACME\", \"shares\": 100, \"price\": 542.23}'"
      ]
     },
     "execution_count": 43,
     "metadata": {},
     "output_type": "execute_result"
    }
   ],
   "source": [
    "json_str"
   ]
  },
  {
   "cell_type": "code",
   "execution_count": 45,
   "id": "e4d51f27",
   "metadata": {},
   "outputs": [
    {
     "data": {
      "text/plain": [
       "{'name': 'ACME', 'shares': 100, 'price': 542.23}"
      ]
     },
     "execution_count": 45,
     "metadata": {},
     "output_type": "execute_result"
    }
   ],
   "source": [
    "data = json.loads(json_str)\n",
    "data"
   ]
  },
  {
   "cell_type": "code",
   "execution_count": 47,
   "id": "2044ada8",
   "metadata": {},
   "outputs": [],
   "source": [
    "# Writing JSON data\n",
    "with open('data.json', 'w') as f:\n",
    "    json.dump(data, f)\n",
    "# Reading data back\n",
    "with open('data.json', 'r') as f:\n",
    "    data = json.load(f)"
   ]
  },
  {
   "cell_type": "code",
   "execution_count": 48,
   "id": "618def8d",
   "metadata": {},
   "outputs": [
    {
     "data": {
      "text/plain": [
       "{'name': 'ACME', 'shares': 100, 'price': 542.23}"
      ]
     },
     "execution_count": 48,
     "metadata": {},
     "output_type": "execute_result"
    }
   ],
   "source": [
    "data"
   ]
  },
  {
   "cell_type": "code",
   "execution_count": 49,
   "id": "93c26a71",
   "metadata": {},
   "outputs": [
    {
     "data": {
      "text/plain": [
       "'{\"a\": true, \"b\": \"Hello\", \"c\": null}'"
      ]
     },
     "execution_count": 49,
     "metadata": {},
     "output_type": "execute_result"
    }
   ],
   "source": [
    "json.dumps(False)\n",
    "d = {'a': True,\n",
    "     'b': 'Hello',\n",
    "     'c': None}\n",
    "json.dumps(d)"
   ]
  },
  {
   "cell_type": "code",
   "execution_count": 61,
   "id": "cb009a2a",
   "metadata": {},
   "outputs": [
    {
     "data": {
      "text/plain": [
       "'{\"page\": 1, \"per_page\": 10, \"total\": 41, \"total_pages\": 5, \"data\": [{\"title\": \"A Message to Our Customers\", \"url\": \"http://www.apple.com/customer-letter/\", \"author\": \"epaga\", \"num_comments\": 967, \"story_id\": null, \"story_title\": null, \"story_url\": null, \"parent_id\": null, \"created_at\": 1455698317}, {\"title\": \"\\\\u201cWas isolated from 1999 to 2006 with a 486. Built my own late 80s OS\\\\u201d\", \"url\": \"http://imgur.com/gallery/hRf2trV\", \"author\": \"epaga\", \"num_comments\": 265, \"story_id\": null, \"story_title\": null, \"story_url\": null, \"parent_id\": null, \"created_at\": 1418517626}, {\"title\": \"Apple\\\\u2019s declining software quality\", \"url\": \"http://sudophilosophical.com/2016/02/04/apples-declining-software-quality/\", \"author\": \"epaga\", \"num_comments\": 705, \"story_id\": null, \"story_title\": null, \"story_url\": null, \"parent_id\": null, \"created_at\": 1454596037}, {\"title\": null, \"url\": null, \"author\": \"patricktomas\", \"num_comments\": 376, \"story_id\": null, \"story_title\": \"Steve Jobs has passed away.\", \"story_url\": \"http://www.apple.com/stevejobs/\", \"parent_id\": null, \"created_at\": 1317858143}, {\"title\": \"Google Is Eating Our Mail\", \"url\": \"https://www.tablix.org/~avian/blog/archives/2019/04/google_is_eating_our_mail/\", \"author\": \"saintamh\", \"num_comments\": 685, \"story_id\": null, \"story_title\": null, \"story_url\": null, \"parent_id\": null, \"created_at\": 1556274921}, {\"title\": \"Why I\\\\u2019m Suing the US Government\", \"url\": \"https://www.bunniestudios.com/blog/?p=4782\", \"author\": \"saintamh\", \"num_comments\": 305, \"story_id\": null, \"story_title\": null, \"story_url\": null, \"parent_id\": null, \"created_at\": 1469106658}, {\"title\": \"F.C.C. Repeals Net Neutrality Rules\", \"url\": \"https://www.nytimes.com/2017/12/14/technology/net-neutrality-repeal-vote.html\", \"author\": \"panny\", \"num_comments\": 1397, \"story_id\": null, \"story_title\": null, \"story_url\": null, \"parent_id\": null, \"created_at\": 1513275215}, {\"title\": \"Show HN: This up votes itself\", \"url\": \"http://news.ycombinator.com/vote?for=3742902&dir=up&whence=%6e%65%77%65%73%74\", \"author\": \"olalonde\", \"num_comments\": 83, \"story_id\": null, \"story_title\": null, \"story_url\": null, \"parent_id\": null, \"created_at\": 1332463239}, {\"title\": null, \"url\": null, \"author\": \"olalonde\", \"num_comments\": null, \"story_id\": null, \"story_title\": \"Guacamole \\\\u2013 A clientless remote desktop gateway\", \"story_url\": \"https://guacamole.incubator.apache.org/\", \"parent_id\": 6547669, \"created_at\": 1381763543}, {\"title\": null, \"url\": null, \"author\": \"WisNorCan\", \"num_comments\": 981, \"story_id\": null, \"story_title\": \"Switch from Chrome to Firefox\", \"story_url\": \"https://www.mozilla.org/en-US/firefox/switch/\", \"parent_id\": null, \"created_at\": 1559232559}]}'"
      ]
     },
     "execution_count": 61,
     "metadata": {},
     "output_type": "execute_result"
    }
   ],
   "source": [
    "from urllib.request import urlopen\n",
    "import json\n",
    "from pprint import pprint\n",
    "u = urlopen('https://jsonmock.hackerrank.com/api/articles'+ '?page={}'.format(1))\n",
    "resp = json.loads(u.read().decode('utf-8'))\n",
    "#pprint(resp)\n",
    "type(resp)\n",
    "data1=json.dumps(resp)\n",
    "data1"
   ]
  },
  {
   "cell_type": "code",
   "execution_count": 62,
   "id": "f0adf818",
   "metadata": {},
   "outputs": [
    {
     "data": {
      "text/plain": [
       "OrderedDict([('page', 1),\n",
       "             ('per_page', 10),\n",
       "             ('total', 41),\n",
       "             ('total_pages', 5),\n",
       "             ('data',\n",
       "              [OrderedDict([('title', 'A Message to Our Customers'),\n",
       "                            ('url', 'http://www.apple.com/customer-letter/'),\n",
       "                            ('author', 'epaga'),\n",
       "                            ('num_comments', 967),\n",
       "                            ('story_id', None),\n",
       "                            ('story_title', None),\n",
       "                            ('story_url', None),\n",
       "                            ('parent_id', None),\n",
       "                            ('created_at', 1455698317)]),\n",
       "               OrderedDict([('title',\n",
       "                             '“Was isolated from 1999 to 2006 with a 486. Built my own late 80s OS”'),\n",
       "                            ('url', 'http://imgur.com/gallery/hRf2trV'),\n",
       "                            ('author', 'epaga'),\n",
       "                            ('num_comments', 265),\n",
       "                            ('story_id', None),\n",
       "                            ('story_title', None),\n",
       "                            ('story_url', None),\n",
       "                            ('parent_id', None),\n",
       "                            ('created_at', 1418517626)]),\n",
       "               OrderedDict([('title', 'Apple’s declining software quality'),\n",
       "                            ('url',\n",
       "                             'http://sudophilosophical.com/2016/02/04/apples-declining-software-quality/'),\n",
       "                            ('author', 'epaga'),\n",
       "                            ('num_comments', 705),\n",
       "                            ('story_id', None),\n",
       "                            ('story_title', None),\n",
       "                            ('story_url', None),\n",
       "                            ('parent_id', None),\n",
       "                            ('created_at', 1454596037)]),\n",
       "               OrderedDict([('title', None),\n",
       "                            ('url', None),\n",
       "                            ('author', 'patricktomas'),\n",
       "                            ('num_comments', 376),\n",
       "                            ('story_id', None),\n",
       "                            ('story_title', 'Steve Jobs has passed away.'),\n",
       "                            ('story_url', 'http://www.apple.com/stevejobs/'),\n",
       "                            ('parent_id', None),\n",
       "                            ('created_at', 1317858143)]),\n",
       "               OrderedDict([('title', 'Google Is Eating Our Mail'),\n",
       "                            ('url',\n",
       "                             'https://www.tablix.org/~avian/blog/archives/2019/04/google_is_eating_our_mail/'),\n",
       "                            ('author', 'saintamh'),\n",
       "                            ('num_comments', 685),\n",
       "                            ('story_id', None),\n",
       "                            ('story_title', None),\n",
       "                            ('story_url', None),\n",
       "                            ('parent_id', None),\n",
       "                            ('created_at', 1556274921)]),\n",
       "               OrderedDict([('title', 'Why I’m Suing the US Government'),\n",
       "                            ('url',\n",
       "                             'https://www.bunniestudios.com/blog/?p=4782'),\n",
       "                            ('author', 'saintamh'),\n",
       "                            ('num_comments', 305),\n",
       "                            ('story_id', None),\n",
       "                            ('story_title', None),\n",
       "                            ('story_url', None),\n",
       "                            ('parent_id', None),\n",
       "                            ('created_at', 1469106658)]),\n",
       "               OrderedDict([('title', 'F.C.C. Repeals Net Neutrality Rules'),\n",
       "                            ('url',\n",
       "                             'https://www.nytimes.com/2017/12/14/technology/net-neutrality-repeal-vote.html'),\n",
       "                            ('author', 'panny'),\n",
       "                            ('num_comments', 1397),\n",
       "                            ('story_id', None),\n",
       "                            ('story_title', None),\n",
       "                            ('story_url', None),\n",
       "                            ('parent_id', None),\n",
       "                            ('created_at', 1513275215)]),\n",
       "               OrderedDict([('title', 'Show HN: This up votes itself'),\n",
       "                            ('url',\n",
       "                             'http://news.ycombinator.com/vote?for=3742902&dir=up&whence=%6e%65%77%65%73%74'),\n",
       "                            ('author', 'olalonde'),\n",
       "                            ('num_comments', 83),\n",
       "                            ('story_id', None),\n",
       "                            ('story_title', None),\n",
       "                            ('story_url', None),\n",
       "                            ('parent_id', None),\n",
       "                            ('created_at', 1332463239)]),\n",
       "               OrderedDict([('title', None),\n",
       "                            ('url', None),\n",
       "                            ('author', 'olalonde'),\n",
       "                            ('num_comments', None),\n",
       "                            ('story_id', None),\n",
       "                            ('story_title',\n",
       "                             'Guacamole – A clientless remote desktop gateway'),\n",
       "                            ('story_url',\n",
       "                             'https://guacamole.incubator.apache.org/'),\n",
       "                            ('parent_id', 6547669),\n",
       "                            ('created_at', 1381763543)]),\n",
       "               OrderedDict([('title', None),\n",
       "                            ('url', None),\n",
       "                            ('author', 'WisNorCan'),\n",
       "                            ('num_comments', 981),\n",
       "                            ('story_id', None),\n",
       "                            ('story_title', 'Switch from Chrome to Firefox'),\n",
       "                            ('story_url',\n",
       "                             'https://www.mozilla.org/en-US/firefox/switch/'),\n",
       "                            ('parent_id', None),\n",
       "                            ('created_at', 1559232559)])])])"
      ]
     },
     "execution_count": 62,
     "metadata": {},
     "output_type": "execute_result"
    }
   ],
   "source": [
    "from collections import OrderedDict\n",
    "s = '{\"name\": \"ACME\", \"shares\": 50, \"price\": 490.1}'\n",
    "data = json.loads(data1, object_pairs_hook=OrderedDict)\n",
    "data"
   ]
  },
  {
   "cell_type": "code",
   "execution_count": 60,
   "id": "fc9c02a0",
   "metadata": {},
   "outputs": [],
   "source": [
    "class JSONObject:\n",
    "    def __init__(self, d):\n",
    "        self.__dict__ = d"
   ]
  },
  {
   "cell_type": "code",
   "execution_count": 63,
   "id": "afc94341",
   "metadata": {},
   "outputs": [],
   "source": [
    "data = json.loads(data1, object_hook=JSONObject)"
   ]
  },
  {
   "cell_type": "code",
   "execution_count": 64,
   "id": "e0490ecf",
   "metadata": {},
   "outputs": [
    {
     "data": {
      "text/plain": [
       "<__main__.JSONObject at 0x1852ce71ca0>"
      ]
     },
     "execution_count": 64,
     "metadata": {},
     "output_type": "execute_result"
    }
   ],
   "source": [
    "data"
   ]
  },
  {
   "cell_type": "code",
   "execution_count": 65,
   "id": "8af38cfc",
   "metadata": {},
   "outputs": [
    {
     "data": {
      "text/plain": [
       "1"
      ]
     },
     "execution_count": 65,
     "metadata": {},
     "output_type": "execute_result"
    }
   ],
   "source": [
    "data.page"
   ]
  },
  {
   "cell_type": "code",
   "execution_count": 73,
   "id": "ff6554a2",
   "metadata": {},
   "outputs": [
    {
     "data": {
      "text/plain": [
       "10"
      ]
     },
     "execution_count": 73,
     "metadata": {},
     "output_type": "execute_result"
    }
   ],
   "source": [
    "len(data.data)"
   ]
  },
  {
   "cell_type": "code",
   "execution_count": 76,
   "id": "8bf7b392",
   "metadata": {},
   "outputs": [
    {
     "name": "stdout",
     "output_type": "stream",
     "text": [
      "\"{\\\"page\\\": 1, \\\"per_page\\\": 10, \\\"total\\\": 41, \\\"total_pages\\\": 5, \\\"data\\\": [{\\\"title\\\": \\\"A Message to Our Customers\\\", \\\"url\\\": \\\"http://www.apple.com/customer-letter/\\\", \\\"author\\\": \\\"epaga\\\", \\\"num_comments\\\": 967, \\\"story_id\\\": null, \\\"story_title\\\": null, \\\"story_url\\\": null, \\\"parent_id\\\": null, \\\"created_at\\\": 1455698317}, {\\\"title\\\": \\\"\\\\u201cWas isolated from 1999 to 2006 with a 486. Built my own late 80s OS\\\\u201d\\\", \\\"url\\\": \\\"http://imgur.com/gallery/hRf2trV\\\", \\\"author\\\": \\\"epaga\\\", \\\"num_comments\\\": 265, \\\"story_id\\\": null, \\\"story_title\\\": null, \\\"story_url\\\": null, \\\"parent_id\\\": null, \\\"created_at\\\": 1418517626}, {\\\"title\\\": \\\"Apple\\\\u2019s declining software quality\\\", \\\"url\\\": \\\"http://sudophilosophical.com/2016/02/04/apples-declining-software-quality/\\\", \\\"author\\\": \\\"epaga\\\", \\\"num_comments\\\": 705, \\\"story_id\\\": null, \\\"story_title\\\": null, \\\"story_url\\\": null, \\\"parent_id\\\": null, \\\"created_at\\\": 1454596037}, {\\\"title\\\": null, \\\"url\\\": null, \\\"author\\\": \\\"patricktomas\\\", \\\"num_comments\\\": 376, \\\"story_id\\\": null, \\\"story_title\\\": \\\"Steve Jobs has passed away.\\\", \\\"story_url\\\": \\\"http://www.apple.com/stevejobs/\\\", \\\"parent_id\\\": null, \\\"created_at\\\": 1317858143}, {\\\"title\\\": \\\"Google Is Eating Our Mail\\\", \\\"url\\\": \\\"https://www.tablix.org/~avian/blog/archives/2019/04/google_is_eating_our_mail/\\\", \\\"author\\\": \\\"saintamh\\\", \\\"num_comments\\\": 685, \\\"story_id\\\": null, \\\"story_title\\\": null, \\\"story_url\\\": null, \\\"parent_id\\\": null, \\\"created_at\\\": 1556274921}, {\\\"title\\\": \\\"Why I\\\\u2019m Suing the US Government\\\", \\\"url\\\": \\\"https://www.bunniestudios.com/blog/?p=4782\\\", \\\"author\\\": \\\"saintamh\\\", \\\"num_comments\\\": 305, \\\"story_id\\\": null, \\\"story_title\\\": null, \\\"story_url\\\": null, \\\"parent_id\\\": null, \\\"created_at\\\": 1469106658}, {\\\"title\\\": \\\"F.C.C. Repeals Net Neutrality Rules\\\", \\\"url\\\": \\\"https://www.nytimes.com/2017/12/14/technology/net-neutrality-repeal-vote.html\\\", \\\"author\\\": \\\"panny\\\", \\\"num_comments\\\": 1397, \\\"story_id\\\": null, \\\"story_title\\\": null, \\\"story_url\\\": null, \\\"parent_id\\\": null, \\\"created_at\\\": 1513275215}, {\\\"title\\\": \\\"Show HN: This up votes itself\\\", \\\"url\\\": \\\"http://news.ycombinator.com/vote?for=3742902&dir=up&whence=%6e%65%77%65%73%74\\\", \\\"author\\\": \\\"olalonde\\\", \\\"num_comments\\\": 83, \\\"story_id\\\": null, \\\"story_title\\\": null, \\\"story_url\\\": null, \\\"parent_id\\\": null, \\\"created_at\\\": 1332463239}, {\\\"title\\\": null, \\\"url\\\": null, \\\"author\\\": \\\"olalonde\\\", \\\"num_comments\\\": null, \\\"story_id\\\": null, \\\"story_title\\\": \\\"Guacamole \\\\u2013 A clientless remote desktop gateway\\\", \\\"story_url\\\": \\\"https://guacamole.incubator.apache.org/\\\", \\\"parent_id\\\": 6547669, \\\"created_at\\\": 1381763543}, {\\\"title\\\": null, \\\"url\\\": null, \\\"author\\\": \\\"WisNorCan\\\", \\\"num_comments\\\": 981, \\\"story_id\\\": null, \\\"story_title\\\": \\\"Switch from Chrome to Firefox\\\", \\\"story_url\\\": \\\"https://www.mozilla.org/en-US/firefox/switch/\\\", \\\"parent_id\\\": null, \\\"created_at\\\": 1559232559}]}\"\n"
     ]
    }
   ],
   "source": [
    "print(json.dumps(data1, indent=4))"
   ]
  },
  {
   "cell_type": "code",
   "execution_count": null,
   "id": "59f1a1f6",
   "metadata": {},
   "outputs": [],
   "source": []
  }
 ],
 "metadata": {
  "kernelspec": {
   "display_name": "Python 3 (ipykernel)",
   "language": "python",
   "name": "python3"
  },
  "language_info": {
   "codemirror_mode": {
    "name": "ipython",
    "version": 3
   },
   "file_extension": ".py",
   "mimetype": "text/x-python",
   "name": "python",
   "nbconvert_exporter": "python",
   "pygments_lexer": "ipython3",
   "version": "3.9.13"
  }
 },
 "nbformat": 4,
 "nbformat_minor": 5
}
